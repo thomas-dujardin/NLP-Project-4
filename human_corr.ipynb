{
  "nbformat": 4,
  "nbformat_minor": 0,
  "metadata": {
    "colab": {
      "provenance": []
    },
    "kernelspec": {
      "name": "python3",
      "display_name": "Python 3"
    },
    "language_info": {
      "name": "python"
    }
  },
  "cells": [
    {
      "cell_type": "markdown",
      "source": [
        "**Condorcet ranking**"
      ],
      "metadata": {
        "id": "IBWADYLBV5o0"
      }
    },
    {
      "cell_type": "code",
      "execution_count": 103,
      "metadata": {
        "id": "R_Glkl5KnqWD"
      },
      "outputs": [],
      "source": [
        "import pandas as pd\n",
        "\n",
        "# Read the CSV file\n",
        "df = pd.read_csv('/content/wmt15engfre.csv', sep=',')\n",
        "\n",
        "# Create a list of dictionaries to store the Condorcet ranks for each segmentId\n",
        "results = []\n",
        "\n",
        "# Loop through each segmentId\n",
        "for segmentId in df.segmentId.unique():\n",
        "    # Create a dictionary to store the Copeland scores for each system\n",
        "    system_scores = {}\n",
        "    # Loop through each row with the current segmentId\n",
        "    for _, row in df[df.segmentId == segmentId].iterrows():\n",
        "        # Get the system IDs and ranks\n",
        "        system1 = row['system1Id']\n",
        "        system2 = row['system2Id']\n",
        "        rank1 = row['system1rank']\n",
        "        rank2 = row['system2rank']\n",
        "        # Update the scores for the first system\n",
        "        if system1 not in system_scores:\n",
        "            system_scores[system1] = 0\n",
        "        if rank1 < rank2:\n",
        "            system_scores[system1] += 1\n",
        "        # Update the scores for the second system\n",
        "        if system2 not in system_scores:\n",
        "            system_scores[system2] = 0\n",
        "        if rank2 < rank1:\n",
        "            system_scores[system2] += 1\n",
        "    # Calculate the Copeland score for each system\n",
        "    copeland_scores = {}\n",
        "    for system in system_scores:\n",
        "        copeland_scores[system] = sum([1 for other_system in system_scores if system_scores[other_system] < system_scores[system]])\n",
        "    # Calculate the Condorcet rank for each system\n",
        "    condorcet_ranks = {}\n",
        "    for system in copeland_scores:\n",
        "        rank = 1\n",
        "        for other_system in copeland_scores:\n",
        "            if copeland_scores[other_system] > copeland_scores[system]:\n",
        "                rank += 1\n",
        "        condorcet_ranks[system] = rank\n",
        "    # Add the Condorcet ranks for this segmentId to the results list\n",
        "    results.append(condorcet_ranks)\n",
        "\n",
        "# Create a new DataFrame with the Condorcet ranks\n",
        "result_df = pd.DataFrame(results)\n",
        "result_df.to_csv('pivoted_wmt15engfre.csv', index=False)"
      ]
    },
    {
      "cell_type": "markdown",
      "source": [
        "**Averaging across judges**"
      ],
      "metadata": {
        "id": "Uwxu6lEsV9DU"
      }
    },
    {
      "cell_type": "code",
      "source": [
        "import pandas as pd\n",
        "\n",
        "# Read the CSV file\n",
        "df = pd.read_csv('/content/wmt15engfre.csv')\n",
        "\n",
        "# Duplicate rows with swapped system ids and ranks\n",
        "df_swapped = df.rename(columns={'system1Id': 'system2Id', 'system1rank': 'system2rank', 'system2Id': 'system1Id', 'system2rank': 'system1rank'})\n",
        "df_augmented = pd.concat([df, df_swapped], ignore_index=True)\n",
        "\n",
        "# Pivot the data to create a new DataFrame with one column per unique value of \"system1Id\" and \"system2Id\"\n",
        "seg_IDs = df_augmented['segmentId'].unique()\n",
        "df_augmented['segmentId'] = pd.Categorical(df_augmented['segmentId'], categories=seg_IDs, ordered=True)\n",
        "df_sorted = df_augmented.sort_values(by='segmentId')\n",
        "\n",
        "pivoted_system1 = df_augmented.pivot_table(index=['segmentId', 'judgeID'], columns='system1Id', values='system1rank', aggfunc='mean')\n",
        "pivoted_system2 = df_augmented.pivot_table(index=['segmentId', 'judgeID'], columns='system2Id', values='system2rank', aggfunc='mean')\n",
        "\n",
        "# Merge the two pivot tables\n",
        "pivoted = pd.concat([pivoted_system1, pivoted_system2], axis=1)\n",
        "\n",
        "# Rename the columns to indicate that they contain system ranks\n",
        "pivoted.columns = [f'{col}_rank' for col in pivoted.columns]\n",
        "\n",
        "# Save the pivoted data to a new CSV file\n",
        "\n",
        "pivoted.groupby('segmentId').mean().iloc[:,0:7].to_csv('/content/pivoted_wmt15engfre.csv')"
      ],
      "metadata": {
        "id": "nF0rNnMilaKu"
      },
      "execution_count": 99,
      "outputs": []
    },
    {
      "cell_type": "markdown",
      "source": [
        "**Ranking according to the different metrics**"
      ],
      "metadata": {
        "id": "y7AFAcZgjgIV"
      }
    },
    {
      "cell_type": "code",
      "source": [
        "import csv\n",
        "import re\n",
        "\n",
        "models = ['BERT_scores', 'BLEU_scores', 'bary_scores', 'depth_scores', 'mover_scores']\n",
        "for i in range(len(models)):\n",
        "  # Read the input CSV file\n",
        "  with open('/content/' + models[i] + '.csv', 'r') as f:\n",
        "      reader = csv.reader(f)\n",
        "      rows = [row for row in reader]\n",
        "      rows = rows[1:]\n",
        "\n",
        "  # Compute the ranks of each value in each row\n",
        "  for row in rows:\n",
        "      # Extract the numeric values\n",
        "      if models[i] == 'BERT_scores':\n",
        "        values = [float(re.search(r'[-+]?\\d*\\.\\d+|\\d+', val).group()) for val in row[1:]]\n",
        "      else:\n",
        "        values = [float(val) for val in row[1:]]\n",
        "      # Sort the values in descending order\n",
        "      sorted_values = sorted(values, reverse=True)\n",
        "      # Compute the ranks of each value\n",
        "      ranks = [sorted_values.index(val) + 1 for val in values]\n",
        "      # Replace the values with their ranks\n",
        "      for j in range(len(values)):\n",
        "          row[j+1] = str(ranks[j])\n",
        "\n",
        "  # Write the modified list of lists to a new CSV file\n",
        "  with open('/content/' + models[i] + '_ranks.csv', 'w', newline='') as f:\n",
        "      writer = csv.writer(f)\n",
        "      writer.writerows(rows)"
      ],
      "metadata": {
        "id": "3DOxxwC2O7SO"
      },
      "execution_count": 104,
      "outputs": []
    },
    {
      "cell_type": "markdown",
      "source": [
        "**Correlation scores: Pearson, Spearman and Kendall**"
      ],
      "metadata": {
        "id": "wryWYZTwjmRp"
      }
    },
    {
      "cell_type": "code",
      "source": [
        "import csv\n",
        "import numpy as np\n",
        "from scipy.stats import pearsonr, spearmanr, kendalltau\n",
        "import math\n",
        "import matplotlib.pyplot as plt\n",
        "\n",
        "def correlations(model):\n",
        "  # Read in the two CSV files\n",
        "  condorcet_ranks = []\n",
        "  with open('/content/pivoted_wmt15engfre.csv', 'r') as f:\n",
        "      reader = csv.reader(f)\n",
        "      for i, row in enumerate(reader):\n",
        "        if i > 0:\n",
        "          condorcet_ranks.append([int(float(x)) if x != '' else None for x in row])\n",
        "\n",
        "  bleu_scores_ranks = []\n",
        "  with open('/content/' + model + '_ranks.csv', 'r') as f:\n",
        "      reader = csv.reader(f)\n",
        "      for row in reader:\n",
        "        if model=='BERT_scores':\n",
        "          bleu_scores_ranks.append([int(float(re.search(r'[-+]?\\d*\\.\\d+|\\d+', x).group())) for x in row])\n",
        "        else:\n",
        "          bleu_scores_ranks.append([int(float(x)) for x in row])\n",
        "\n",
        "  # Fill in missing values in condorcet_ranks with the average rank\n",
        "  for i in range(len(condorcet_ranks)):\n",
        "      num_filled = sum([1 for x in condorcet_ranks[i] if x is not None])\n",
        "      if num_filled > 0:\n",
        "          avg_rank = sum([x for x in condorcet_ranks[i] if x is not None]) / num_filled\n",
        "          for j in range(len(condorcet_ranks[i])):\n",
        "              if condorcet_ranks[i][j] is None:\n",
        "                  condorcet_ranks[i][j] = avg_rank\n",
        "\n",
        "  # Compute the correlation scores row by row\n",
        "  pearson_scores = []\n",
        "  spearman_scores = []\n",
        "  kendall_scores = []\n",
        "\n",
        "  for i in range(len(condorcet_ranks)):\n",
        "      spearman, _ = spearmanr(condorcet_ranks[i], bleu_scores_ranks[i][1:])\n",
        "      if not math.isnan(spearman):\n",
        "        spearman_scores.append(spearman)\n",
        "\n",
        "  # Print out the correlation scores\n",
        "  return np.mean(spearman_scores), spearman_scores\n",
        "\n",
        "fig, ax = plt.subplots()\n",
        "scores_array = []\n",
        "for model in models:\n",
        "  mean, spearman_scores = correlations(model)\n",
        "  print('Spearman for ' + model + ':' + str(mean))\n",
        "  scores_array.append(spearman_scores)\n",
        "# create boxplot\n",
        "ax.boxplot(scores_array)\n",
        "ax.set_xticklabels(models)\n",
        "ax.set_ylabel('Correlation Coefficient')\n",
        "ax.set_title('Spearman Correlations for All Models')\n",
        "plt.show()"
      ],
      "metadata": {
        "colab": {
          "base_uri": "https://localhost:8080/",
          "height": 429
        },
        "id": "LBsiIJNAVcnr",
        "outputId": "883b99a5-674f-4bc9-d8c6-ce8b6cd2bf3d"
      },
      "execution_count": 105,
      "outputs": [
        {
          "output_type": "stream",
          "name": "stderr",
          "text": [
            "/usr/local/lib/python3.9/dist-packages/scipy/stats/_stats_py.py:4916: ConstantInputWarning: An input array is constant; the correlation coefficient is not defined.\n",
            "  warnings.warn(stats.ConstantInputWarning(warn_msg))\n"
          ]
        },
        {
          "output_type": "stream",
          "name": "stdout",
          "text": [
            "Spearman for BERT_scores:0.03828327956906386\n",
            "Spearman for BLEU_scores:0.08055234638196113\n",
            "Spearman for bary_scores:0.013821312503857862\n",
            "Spearman for depth_scores:0.012209648165413423\n",
            "Spearman for mover_scores:0.029728901845974234\n"
          ]
        },
        {
          "output_type": "display_data",
          "data": {
            "text/plain": [
              "<Figure size 432x288 with 1 Axes>"
            ],
            "image/png": "[encoded data removed]"
          },
          "metadata": {
            "needs_background": "light"
          }
        }
      ]
    }
  ]
}